{
 "cells": [
  {
   "cell_type": "code",
   "execution_count": 49,
   "id": "eec4db42-7382-4d6c-bab3-c35a20fe8033",
   "metadata": {},
   "outputs": [],
   "source": [
    "import pandas as pd\n",
    "\n",
    "import matplotlib.pyplot as plt\n",
    "\n",
    "import matplotlib.ticker as mtick\n",
    "\n",
    "import matplotlib.pyplot as plt\n",
    "\n",
    "import matplotlib.dates as mdates\n",
    "\n",
    "import matplotlib.cm as cm\n",
    "\n",
    "import numpy as np"
   ]
  },
  {
   "cell_type": "code",
   "execution_count": 50,
   "id": "c200a4df-32e6-491b-93ce-9cd27845d9ed",
   "metadata": {},
   "outputs": [],
   "source": [
    "attrition = pd.read_csv(r\"C:\\Users\\Student\\Desktop\\Shivan\\Portfolio Projects\\Project 2 - Protea Capital Partners\\Data\\Raw Data\\attrition.csv\", sep = \",\")\n",
    "\n",
    "compensation = pd.read_csv(r\"C:\\Users\\Student\\Desktop\\Shivan\\Portfolio Projects\\Project 2 - Protea Capital Partners\\Data\\Raw Data\\compensation.csv\", sep = \",\")\n",
    "\n",
    "employees = pd.read_csv(r\"C:\\Users\\Student\\Desktop\\Shivan\\Portfolio Projects\\Project 2 - Protea Capital Partners\\Data\\Raw Data\\employees.csv\", sep = \",\")\n",
    "\n",
    "engagement = pd.read_csv(r\"C:\\Users\\Student\\Desktop\\Shivan\\Portfolio Projects\\Project 2 - Protea Capital Partners\\Data\\Raw Data\\engagement.csv\", sep = \",\")\n",
    "\n",
    "performance = pd.read_csv(r\"C:\\Users\\Student\\Desktop\\Shivan\\Portfolio Projects\\Project 2 - Protea Capital Partners\\Data\\Raw Data\\performance.csv\", sep = \",\")\n",
    "\n",
    "training = pd.read_csv(r\"C:\\Users\\Student\\Desktop\\Shivan\\Portfolio Projects\\Project 2 - Protea Capital Partners\\Data\\Raw Data\\training.csv\", sep = \",\")"
   ]
  },
  {
   "cell_type": "code",
   "execution_count": 51,
   "id": "2f88cab1-786a-4991-ab62-1e8f3a38cc98",
   "metadata": {},
   "outputs": [
    {
     "data": {
      "text/plain": [
       "EmployeeID           int64\n",
       "ExitDate            object\n",
       "ExitReason          object\n",
       "EstimatedCostZAR     int64\n",
       "dtype: object"
      ]
     },
     "execution_count": 51,
     "metadata": {},
     "output_type": "execute_result"
    }
   ],
   "source": [
    "attrition.dtypes # Checking datatypes"
   ]
  },
  {
   "cell_type": "code",
   "execution_count": 52,
   "id": "2a3e3ff8-60ce-452b-8a08-4db0bb92a2c0",
   "metadata": {},
   "outputs": [
    {
     "data": {
      "text/html": [
       "<div>\n",
       "<style scoped>\n",
       "    .dataframe tbody tr th:only-of-type {\n",
       "        vertical-align: middle;\n",
       "    }\n",
       "\n",
       "    .dataframe tbody tr th {\n",
       "        vertical-align: top;\n",
       "    }\n",
       "\n",
       "    .dataframe thead th {\n",
       "        text-align: right;\n",
       "    }\n",
       "</style>\n",
       "<table border=\"1\" class=\"dataframe\">\n",
       "  <thead>\n",
       "    <tr style=\"text-align: right;\">\n",
       "      <th></th>\n",
       "      <th>EmployeeID</th>\n",
       "      <th>ExitDate</th>\n",
       "      <th>ExitReason</th>\n",
       "      <th>EstimatedCostZAR</th>\n",
       "    </tr>\n",
       "  </thead>\n",
       "  <tbody>\n",
       "    <tr>\n",
       "      <th>0</th>\n",
       "      <td>3</td>\n",
       "      <td>2024-12-09</td>\n",
       "      <td>Personal</td>\n",
       "      <td>28275</td>\n",
       "    </tr>\n",
       "    <tr>\n",
       "      <th>1</th>\n",
       "      <td>15</td>\n",
       "      <td>2024-03-03</td>\n",
       "      <td>Better Pay</td>\n",
       "      <td>15909</td>\n",
       "    </tr>\n",
       "    <tr>\n",
       "      <th>2</th>\n",
       "      <td>19</td>\n",
       "      <td>2024-07-29</td>\n",
       "      <td>Better Pay</td>\n",
       "      <td>37620</td>\n",
       "    </tr>\n",
       "    <tr>\n",
       "      <th>3</th>\n",
       "      <td>21</td>\n",
       "      <td>2024-06-30</td>\n",
       "      <td>Better Pay</td>\n",
       "      <td>17431</td>\n",
       "    </tr>\n",
       "    <tr>\n",
       "      <th>4</th>\n",
       "      <td>24</td>\n",
       "      <td>2024-12-06</td>\n",
       "      <td>Career Change</td>\n",
       "      <td>47624</td>\n",
       "    </tr>\n",
       "  </tbody>\n",
       "</table>\n",
       "</div>"
      ],
      "text/plain": [
       "   EmployeeID    ExitDate     ExitReason  EstimatedCostZAR\n",
       "0           3  2024-12-09       Personal             28275\n",
       "1          15  2024-03-03     Better Pay             15909\n",
       "2          19  2024-07-29     Better Pay             37620\n",
       "3          21  2024-06-30     Better Pay             17431\n",
       "4          24  2024-12-06  Career Change             47624"
      ]
     },
     "execution_count": 52,
     "metadata": {},
     "output_type": "execute_result"
    }
   ],
   "source": [
    "attrition.head() # Checking the first few values"
   ]
  },
  {
   "cell_type": "code",
   "execution_count": 53,
   "id": "67ad7ab6-5c0f-4f13-b159-f2591553eeb6",
   "metadata": {},
   "outputs": [],
   "source": [
    "attrition = attrition.drop_duplicates() # Removes duplicates"
   ]
  },
  {
   "cell_type": "code",
   "execution_count": 54,
   "id": "9aebada6-aff2-40bb-ae95-16a70e4c4921",
   "metadata": {},
   "outputs": [
    {
     "data": {
      "text/plain": [
       "(100, 4)"
      ]
     },
     "execution_count": 54,
     "metadata": {},
     "output_type": "execute_result"
    }
   ],
   "source": [
    "attrition.shape # Checking rows and columns"
   ]
  },
  {
   "cell_type": "code",
   "execution_count": 55,
   "id": "3193741d-a484-4212-ab96-4258bf273f5f",
   "metadata": {},
   "outputs": [
    {
     "data": {
      "text/plain": [
       "EmployeeID          0\n",
       "ExitDate            0\n",
       "ExitReason          0\n",
       "EstimatedCostZAR    0\n",
       "dtype: int64"
      ]
     },
     "execution_count": 55,
     "metadata": {},
     "output_type": "execute_result"
    }
   ],
   "source": [
    "attrition.isnull().sum() # Checking for missing values"
   ]
  },
  {
   "cell_type": "code",
   "execution_count": 56,
   "id": "e522eef8-7f8c-433d-a197-eb1290ed9870",
   "metadata": {},
   "outputs": [
    {
     "data": {
      "text/html": [
       "<div>\n",
       "<style scoped>\n",
       "    .dataframe tbody tr th:only-of-type {\n",
       "        vertical-align: middle;\n",
       "    }\n",
       "\n",
       "    .dataframe tbody tr th {\n",
       "        vertical-align: top;\n",
       "    }\n",
       "\n",
       "    .dataframe thead th {\n",
       "        text-align: right;\n",
       "    }\n",
       "</style>\n",
       "<table border=\"1\" class=\"dataframe\">\n",
       "  <thead>\n",
       "    <tr style=\"text-align: right;\">\n",
       "      <th></th>\n",
       "      <th>EmployeeID</th>\n",
       "      <th>ExitDate</th>\n",
       "      <th>ExitReason</th>\n",
       "      <th>EstimatedCostZAR</th>\n",
       "    </tr>\n",
       "  </thead>\n",
       "  <tbody>\n",
       "    <tr>\n",
       "      <th>count</th>\n",
       "      <td>100.00</td>\n",
       "      <td>100</td>\n",
       "      <td>100</td>\n",
       "      <td>100.00</td>\n",
       "    </tr>\n",
       "    <tr>\n",
       "      <th>unique</th>\n",
       "      <td>NaN</td>\n",
       "      <td>85</td>\n",
       "      <td>6</td>\n",
       "      <td>NaN</td>\n",
       "    </tr>\n",
       "    <tr>\n",
       "      <th>top</th>\n",
       "      <td>NaN</td>\n",
       "      <td>2024-12-02</td>\n",
       "      <td>Better Pay</td>\n",
       "      <td>NaN</td>\n",
       "    </tr>\n",
       "    <tr>\n",
       "      <th>freq</th>\n",
       "      <td>NaN</td>\n",
       "      <td>3</td>\n",
       "      <td>29</td>\n",
       "      <td>NaN</td>\n",
       "    </tr>\n",
       "    <tr>\n",
       "      <th>mean</th>\n",
       "      <td>269.38</td>\n",
       "      <td>NaN</td>\n",
       "      <td>NaN</td>\n",
       "      <td>32136.26</td>\n",
       "    </tr>\n",
       "    <tr>\n",
       "      <th>std</th>\n",
       "      <td>146.16</td>\n",
       "      <td>NaN</td>\n",
       "      <td>NaN</td>\n",
       "      <td>9878.28</td>\n",
       "    </tr>\n",
       "    <tr>\n",
       "      <th>min</th>\n",
       "      <td>3.00</td>\n",
       "      <td>NaN</td>\n",
       "      <td>NaN</td>\n",
       "      <td>15148.00</td>\n",
       "    </tr>\n",
       "    <tr>\n",
       "      <th>25%</th>\n",
       "      <td>141.25</td>\n",
       "      <td>NaN</td>\n",
       "      <td>NaN</td>\n",
       "      <td>24196.50</td>\n",
       "    </tr>\n",
       "    <tr>\n",
       "      <th>50%</th>\n",
       "      <td>279.00</td>\n",
       "      <td>NaN</td>\n",
       "      <td>NaN</td>\n",
       "      <td>32223.50</td>\n",
       "    </tr>\n",
       "    <tr>\n",
       "      <th>75%</th>\n",
       "      <td>392.50</td>\n",
       "      <td>NaN</td>\n",
       "      <td>NaN</td>\n",
       "      <td>39445.50</td>\n",
       "    </tr>\n",
       "    <tr>\n",
       "      <th>max</th>\n",
       "      <td>499.00</td>\n",
       "      <td>NaN</td>\n",
       "      <td>NaN</td>\n",
       "      <td>49675.00</td>\n",
       "    </tr>\n",
       "  </tbody>\n",
       "</table>\n",
       "</div>"
      ],
      "text/plain": [
       "        EmployeeID    ExitDate  ExitReason  EstimatedCostZAR\n",
       "count       100.00         100         100            100.00\n",
       "unique         NaN          85           6               NaN\n",
       "top            NaN  2024-12-02  Better Pay               NaN\n",
       "freq           NaN           3          29               NaN\n",
       "mean        269.38         NaN         NaN          32136.26\n",
       "std         146.16         NaN         NaN           9878.28\n",
       "min           3.00         NaN         NaN          15148.00\n",
       "25%         141.25         NaN         NaN          24196.50\n",
       "50%         279.00         NaN         NaN          32223.50\n",
       "75%         392.50         NaN         NaN          39445.50\n",
       "max         499.00         NaN         NaN          49675.00"
      ]
     },
     "execution_count": 56,
     "metadata": {},
     "output_type": "execute_result"
    }
   ],
   "source": [
    "attrition.describe(include = 'all').round(2) # Getting descriptive stats and rounding to 2 decimal places."
   ]
  },
  {
   "cell_type": "code",
   "execution_count": 57,
   "id": "c956305f-d785-42ee-8183-b4d360192524",
   "metadata": {},
   "outputs": [
    {
     "data": {
      "text/html": [
       "<div>\n",
       "<style scoped>\n",
       "    .dataframe tbody tr th:only-of-type {\n",
       "        vertical-align: middle;\n",
       "    }\n",
       "\n",
       "    .dataframe tbody tr th {\n",
       "        vertical-align: top;\n",
       "    }\n",
       "\n",
       "    .dataframe thead th {\n",
       "        text-align: right;\n",
       "    }\n",
       "</style>\n",
       "<table border=\"1\" class=\"dataframe\">\n",
       "  <thead>\n",
       "    <tr style=\"text-align: right;\">\n",
       "      <th></th>\n",
       "      <th>EmployeeID</th>\n",
       "      <th>ExitDate</th>\n",
       "      <th>ExitReason</th>\n",
       "      <th>EstimatedCostZAR</th>\n",
       "    </tr>\n",
       "  </thead>\n",
       "  <tbody>\n",
       "    <tr>\n",
       "      <th>25</th>\n",
       "      <td>142</td>\n",
       "      <td>2024-10-20</td>\n",
       "      <td>Relocation</td>\n",
       "      <td>31150</td>\n",
       "    </tr>\n",
       "    <tr>\n",
       "      <th>33</th>\n",
       "      <td>189</td>\n",
       "      <td>2024-10-12</td>\n",
       "      <td>Better Pay</td>\n",
       "      <td>47031</td>\n",
       "    </tr>\n",
       "    <tr>\n",
       "      <th>38</th>\n",
       "      <td>240</td>\n",
       "      <td>2024-05-16</td>\n",
       "      <td>Personal</td>\n",
       "      <td>27638</td>\n",
       "    </tr>\n",
       "    <tr>\n",
       "      <th>53</th>\n",
       "      <td>296</td>\n",
       "      <td>2024-03-13</td>\n",
       "      <td>Better Pay</td>\n",
       "      <td>40675</td>\n",
       "    </tr>\n",
       "    <tr>\n",
       "      <th>62</th>\n",
       "      <td>338</td>\n",
       "      <td>2024-06-23</td>\n",
       "      <td>Career Change</td>\n",
       "      <td>26009</td>\n",
       "    </tr>\n",
       "    <tr>\n",
       "      <th>69</th>\n",
       "      <td>366</td>\n",
       "      <td>2024-02-13</td>\n",
       "      <td>Career Change</td>\n",
       "      <td>30321</td>\n",
       "    </tr>\n",
       "    <tr>\n",
       "      <th>77</th>\n",
       "      <td>409</td>\n",
       "      <td>2024-05-19</td>\n",
       "      <td>Personal</td>\n",
       "      <td>48092</td>\n",
       "    </tr>\n",
       "    <tr>\n",
       "      <th>95</th>\n",
       "      <td>490</td>\n",
       "      <td>2024-10-30</td>\n",
       "      <td>Workload</td>\n",
       "      <td>37391</td>\n",
       "    </tr>\n",
       "  </tbody>\n",
       "</table>\n",
       "</div>"
      ],
      "text/plain": [
       "    EmployeeID    ExitDate     ExitReason  EstimatedCostZAR\n",
       "25         142  2024-10-20     Relocation             31150\n",
       "33         189  2024-10-12     Better Pay             47031\n",
       "38         240  2024-05-16       Personal             27638\n",
       "53         296  2024-03-13     Better Pay             40675\n",
       "62         338  2024-06-23  Career Change             26009\n",
       "69         366  2024-02-13  Career Change             30321\n",
       "77         409  2024-05-19       Personal             48092\n",
       "95         490  2024-10-30       Workload             37391"
      ]
     },
     "execution_count": 57,
     "metadata": {},
     "output_type": "execute_result"
    }
   ],
   "source": [
    "attrition[(attrition['ExitDate'] < employees.set_index('EmployeeID').loc[attrition['EmployeeID'], 'HireDate'].values)]\n",
    "# attrition[(attrition['ExitDate'] - References the attrition table and 'ExitDate' column. Square brackets make it a boolean mask.Brackets are closed later.\n",
    "# employees.set_index('EmployeeID'), 'HireDate'] - Makes the 'EmployeeID' column the index of the employees table that we're referencing.\n",
    "# .loc[attrition['EmployeeID'] - Uses the 'EmployeeID' from the attrition table to fetch the corresponding 'HireDate' from the employees table.\n",
    "# .values)] - Converts it into a numpy array so it aligns with the 'ExitDate' column row by row.\n",
    "# This function will pull all the data where the exit date is earlier than the hire date - revealing bad data."
   ]
  },
  {
   "cell_type": "code",
   "execution_count": 58,
   "id": "bb9f39ec-0522-4001-aa2c-8efbcc72b2b8",
   "metadata": {},
   "outputs": [],
   "source": [
    "# Okay, we have 8 entries where the exit date is sooner than the hire date.\n",
    "# This means the data is bad because someone can't leave a company before being hired to it!\n",
    "# Normally, I would speak with HR and have them provide me with accurate information so I can correct it. \n",
    "# But this is a fictional data set that I generated so I can't do that.\n",
    "# So we're going to assume that the dates were erroniously switched during the data entry process.\n",
    "# Now we need to write a script that will swap the exit date and hire date for these bad entries"
   ]
  },
  {
   "cell_type": "code",
   "execution_count": 59,
   "id": "cdea89f7-99d9-4c9f-84e8-3346a684e479",
   "metadata": {},
   "outputs": [],
   "source": [
    "attrition = attrition.copy()\n",
    "employees = employees.copy()\n",
    "# Making copies of the tables so we don't break anything"
   ]
  },
  {
   "cell_type": "code",
   "execution_count": 60,
   "id": "dcefd747-7f9d-4aba-b824-371a711ee384",
   "metadata": {},
   "outputs": [],
   "source": [
    "hire_dates = employees.set_index('EmployeeID').loc[attrition['EmployeeID'], 'HireDate'].values\n",
    "# Extracting the hire dates for each employee ID from the employees table to make life easy"
   ]
  },
  {
   "cell_type": "code",
   "execution_count": 61,
   "id": "8819f1c5-5b33-4779-88a5-e37239779c82",
   "metadata": {},
   "outputs": [],
   "source": [
    "bad_dates = attrition['ExitDate'] < hire_dates\n",
    "# Now we're pulling out all the bad dates where the exit date is earlier than the hire date\n",
    "# See? 'hire_dates' made life easy"
   ]
  },
  {
   "cell_type": "code",
   "execution_count": 62,
   "id": "87c5e26e-6ef0-4c0a-b00f-5b0050cb80d2",
   "metadata": {},
   "outputs": [],
   "source": [
    "temp_exit = attrition.loc[bad_dates, 'ExitDate']\n",
    "# Storing the bad dates temporarily"
   ]
  },
  {
   "cell_type": "code",
   "execution_count": 63,
   "id": "8d1129f3-2c05-463d-a30b-d3d6d8c74cc6",
   "metadata": {},
   "outputs": [],
   "source": [
    "attrition.loc[bad_dates, 'ExitDate'] = hire_dates[bad_dates]\n",
    "# Swapping the dates that match the 'bad_dates' values in the 'ExitDate' column of the attrition table with the hire dates in the bad_dates table"
   ]
  },
  {
   "cell_type": "code",
   "execution_count": 64,
   "id": "8fd0e1d5-6f3a-45f7-b1d4-b0e14532beca",
   "metadata": {},
   "outputs": [],
   "source": [
    "employees.loc[employees['EmployeeID'].isin(attrition.loc[bad_dates, 'EmployeeID']), 'HireDate'] = temp_exit.values\n",
    "# Replacing the bad hire dates with the corresponding end dates.\n",
    "# attrition.loc[bad_dates, 'EmployeeID'] - References the employee IDs with bad dates\n",
    "# employees['EmployeeID'].isin(...) - Checks for the employee IDs with bad dates (works with the above)\n",
    "# 'HireDate' - Works with the 'HireDate' column\n",
    "# temp_exit.values - Replaces the values"
   ]
  },
  {
   "cell_type": "code",
   "execution_count": 65,
   "id": "47ac411c-849e-4e7e-a582-ef4a53a6e3c2",
   "metadata": {},
   "outputs": [
    {
     "data": {
      "text/html": [
       "<div>\n",
       "<style scoped>\n",
       "    .dataframe tbody tr th:only-of-type {\n",
       "        vertical-align: middle;\n",
       "    }\n",
       "\n",
       "    .dataframe tbody tr th {\n",
       "        vertical-align: top;\n",
       "    }\n",
       "\n",
       "    .dataframe thead th {\n",
       "        text-align: right;\n",
       "    }\n",
       "</style>\n",
       "<table border=\"1\" class=\"dataframe\">\n",
       "  <thead>\n",
       "    <tr style=\"text-align: right;\">\n",
       "      <th></th>\n",
       "      <th>EmployeeID</th>\n",
       "      <th>ExitDate</th>\n",
       "      <th>ExitReason</th>\n",
       "      <th>EstimatedCostZAR</th>\n",
       "    </tr>\n",
       "  </thead>\n",
       "  <tbody>\n",
       "  </tbody>\n",
       "</table>\n",
       "</div>"
      ],
      "text/plain": [
       "Empty DataFrame\n",
       "Columns: [EmployeeID, ExitDate, ExitReason, EstimatedCostZAR]\n",
       "Index: []"
      ]
     },
     "execution_count": 65,
     "metadata": {},
     "output_type": "execute_result"
    }
   ],
   "source": [
    "attrition[(attrition['ExitDate'] < employees.set_index('EmployeeID').loc[attrition['EmployeeID'], 'HireDate'].values)]\n",
    "# Checking for bad dates again to see if it was fixed"
   ]
  },
  {
   "cell_type": "code",
   "execution_count": 66,
   "id": "996fb81b-e868-4a54-a848-74c8c53c92eb",
   "metadata": {},
   "outputs": [],
   "source": [
    "# Zero entries! IT WORKED! That took HOURS to figure out! WOW!"
   ]
  },
  {
   "cell_type": "code",
   "execution_count": 67,
   "id": "380be19f-a1e2-4b0b-9000-f0c0a82cbf18",
   "metadata": {},
   "outputs": [
    {
     "data": {
      "text/plain": [
       "ExitReason\n",
       "Better Pay       29\n",
       "Management       19\n",
       "Personal         18\n",
       "Career Change    13\n",
       "Relocation       11\n",
       "Workload         10\n",
       "Name: count, dtype: int64"
      ]
     },
     "execution_count": 67,
     "metadata": {},
     "output_type": "execute_result"
    }
   ],
   "source": [
    "attrition['ExitReason'].value_counts()\n",
    "# Just counting the reasons people left. This will help us later and reveal outliers now."
   ]
  },
  {
   "cell_type": "code",
   "execution_count": 68,
   "id": "fac8f160-f595-4b11-86bd-a753cac9b11e",
   "metadata": {},
   "outputs": [],
   "source": [
    "# Pay your people! No outliers though. That's good."
   ]
  },
  {
   "cell_type": "code",
   "execution_count": 69,
   "id": "3dc5e9b3-8dfc-4d56-956e-5939831ee221",
   "metadata": {},
   "outputs": [
    {
     "data": {
      "text/plain": [
       "EmployeeID           int64\n",
       "ExitDate            object\n",
       "ExitReason          object\n",
       "EstimatedCostZAR     int64\n",
       "dtype: object"
      ]
     },
     "execution_count": 69,
     "metadata": {},
     "output_type": "execute_result"
    }
   ],
   "source": [
    "attrition.dtypes # Double checking that everything is okay."
   ]
  },
  {
   "cell_type": "code",
   "execution_count": 70,
   "id": "390d37f3-4a33-4c3e-978e-95161da2a100",
   "metadata": {},
   "outputs": [
    {
     "data": {
      "text/html": [
       "<div>\n",
       "<style scoped>\n",
       "    .dataframe tbody tr th:only-of-type {\n",
       "        vertical-align: middle;\n",
       "    }\n",
       "\n",
       "    .dataframe tbody tr th {\n",
       "        vertical-align: top;\n",
       "    }\n",
       "\n",
       "    .dataframe thead th {\n",
       "        text-align: right;\n",
       "    }\n",
       "</style>\n",
       "<table border=\"1\" class=\"dataframe\">\n",
       "  <thead>\n",
       "    <tr style=\"text-align: right;\">\n",
       "      <th></th>\n",
       "      <th>EmployeeID</th>\n",
       "      <th>ExitDate</th>\n",
       "      <th>ExitReason</th>\n",
       "      <th>EstimatedCostZAR</th>\n",
       "    </tr>\n",
       "  </thead>\n",
       "  <tbody>\n",
       "    <tr>\n",
       "      <th>0</th>\n",
       "      <td>3</td>\n",
       "      <td>2024-12-09</td>\n",
       "      <td>Personal</td>\n",
       "      <td>28275</td>\n",
       "    </tr>\n",
       "    <tr>\n",
       "      <th>1</th>\n",
       "      <td>15</td>\n",
       "      <td>2024-03-03</td>\n",
       "      <td>Better Pay</td>\n",
       "      <td>15909</td>\n",
       "    </tr>\n",
       "    <tr>\n",
       "      <th>2</th>\n",
       "      <td>19</td>\n",
       "      <td>2024-07-29</td>\n",
       "      <td>Better Pay</td>\n",
       "      <td>37620</td>\n",
       "    </tr>\n",
       "    <tr>\n",
       "      <th>3</th>\n",
       "      <td>21</td>\n",
       "      <td>2024-06-30</td>\n",
       "      <td>Better Pay</td>\n",
       "      <td>17431</td>\n",
       "    </tr>\n",
       "    <tr>\n",
       "      <th>4</th>\n",
       "      <td>24</td>\n",
       "      <td>2024-12-06</td>\n",
       "      <td>Career Change</td>\n",
       "      <td>47624</td>\n",
       "    </tr>\n",
       "  </tbody>\n",
       "</table>\n",
       "</div>"
      ],
      "text/plain": [
       "   EmployeeID    ExitDate     ExitReason  EstimatedCostZAR\n",
       "0           3  2024-12-09       Personal             28275\n",
       "1          15  2024-03-03     Better Pay             15909\n",
       "2          19  2024-07-29     Better Pay             37620\n",
       "3          21  2024-06-30     Better Pay             17431\n",
       "4          24  2024-12-06  Career Change             47624"
      ]
     },
     "execution_count": 70,
     "metadata": {},
     "output_type": "execute_result"
    }
   ],
   "source": [
    "attrition.head() # Another double check"
   ]
  },
  {
   "cell_type": "code",
   "execution_count": 71,
   "id": "7430bb10-c3e2-447d-bcb8-038617f5a351",
   "metadata": {},
   "outputs": [],
   "source": [
    "# Data cleaning of attrition table complete. Let's move on to the compensation table."
   ]
  },
  {
   "cell_type": "code",
   "execution_count": 72,
   "id": "e0a85260-1454-4dfb-b58f-f74601e0327e",
   "metadata": {},
   "outputs": [
    {
     "data": {
      "text/plain": [
       "EmployeeID        int64\n",
       "EffectiveDate    object\n",
       "BaseSalaryZAR     int64\n",
       "BonusZAR          int64\n",
       "TotalCompZAR      int64\n",
       "dtype: object"
      ]
     },
     "execution_count": 72,
     "metadata": {},
     "output_type": "execute_result"
    }
   ],
   "source": [
    "compensation.dtypes"
   ]
  },
  {
   "cell_type": "code",
   "execution_count": 73,
   "id": "6f8144e1-16ef-49ee-8ec8-721e868b02fa",
   "metadata": {},
   "outputs": [
    {
     "data": {
      "text/html": [
       "<div>\n",
       "<style scoped>\n",
       "    .dataframe tbody tr th:only-of-type {\n",
       "        vertical-align: middle;\n",
       "    }\n",
       "\n",
       "    .dataframe tbody tr th {\n",
       "        vertical-align: top;\n",
       "    }\n",
       "\n",
       "    .dataframe thead th {\n",
       "        text-align: right;\n",
       "    }\n",
       "</style>\n",
       "<table border=\"1\" class=\"dataframe\">\n",
       "  <thead>\n",
       "    <tr style=\"text-align: right;\">\n",
       "      <th></th>\n",
       "      <th>EmployeeID</th>\n",
       "      <th>EffectiveDate</th>\n",
       "      <th>BaseSalaryZAR</th>\n",
       "      <th>BonusZAR</th>\n",
       "      <th>TotalCompZAR</th>\n",
       "    </tr>\n",
       "  </thead>\n",
       "  <tbody>\n",
       "    <tr>\n",
       "      <th>0</th>\n",
       "      <td>1</td>\n",
       "      <td>2025-01-01</td>\n",
       "      <td>54832</td>\n",
       "      <td>10203</td>\n",
       "      <td>65035</td>\n",
       "    </tr>\n",
       "    <tr>\n",
       "      <th>1</th>\n",
       "      <td>2</td>\n",
       "      <td>2025-01-01</td>\n",
       "      <td>22446</td>\n",
       "      <td>4297</td>\n",
       "      <td>26743</td>\n",
       "    </tr>\n",
       "    <tr>\n",
       "      <th>2</th>\n",
       "      <td>3</td>\n",
       "      <td>2025-01-01</td>\n",
       "      <td>65583</td>\n",
       "      <td>7434</td>\n",
       "      <td>73017</td>\n",
       "    </tr>\n",
       "    <tr>\n",
       "      <th>3</th>\n",
       "      <td>4</td>\n",
       "      <td>2025-01-01</td>\n",
       "      <td>53392</td>\n",
       "      <td>5691</td>\n",
       "      <td>59083</td>\n",
       "    </tr>\n",
       "    <tr>\n",
       "      <th>4</th>\n",
       "      <td>5</td>\n",
       "      <td>2025-01-01</td>\n",
       "      <td>22461</td>\n",
       "      <td>4277</td>\n",
       "      <td>26738</td>\n",
       "    </tr>\n",
       "  </tbody>\n",
       "</table>\n",
       "</div>"
      ],
      "text/plain": [
       "   EmployeeID EffectiveDate  BaseSalaryZAR  BonusZAR  TotalCompZAR\n",
       "0           1    2025-01-01          54832     10203         65035\n",
       "1           2    2025-01-01          22446      4297         26743\n",
       "2           3    2025-01-01          65583      7434         73017\n",
       "3           4    2025-01-01          53392      5691         59083\n",
       "4           5    2025-01-01          22461      4277         26738"
      ]
     },
     "execution_count": 73,
     "metadata": {},
     "output_type": "execute_result"
    }
   ],
   "source": [
    "compensation.head()"
   ]
  },
  {
   "cell_type": "code",
   "execution_count": 74,
   "id": "6cc5f613-39e7-42f9-97a9-121e09c35d9a",
   "metadata": {},
   "outputs": [],
   "source": [
    "compensation = compensation.drop_duplicates() # Removing duplicates"
   ]
  },
  {
   "cell_type": "code",
   "execution_count": 75,
   "id": "303712c8-1d88-4e95-aaa5-eb4c47b38ad2",
   "metadata": {},
   "outputs": [
    {
     "data": {
      "text/plain": [
       "EmployeeID       0\n",
       "EffectiveDate    0\n",
       "BaseSalaryZAR    0\n",
       "BonusZAR         0\n",
       "TotalCompZAR     0\n",
       "dtype: int64"
      ]
     },
     "execution_count": 75,
     "metadata": {},
     "output_type": "execute_result"
    }
   ],
   "source": [
    "compensation.isnull().sum() # Checking for missing values"
   ]
  },
  {
   "cell_type": "code",
   "execution_count": 76,
   "id": "ccd64be6-3a1f-4513-a204-abafdacaec0d",
   "metadata": {},
   "outputs": [
    {
     "data": {
      "text/plain": [
       "(500, 5)"
      ]
     },
     "execution_count": 76,
     "metadata": {},
     "output_type": "execute_result"
    }
   ],
   "source": [
    "compensation.shape # Checking rows and columns"
   ]
  },
  {
   "cell_type": "code",
   "execution_count": 77,
   "id": "dcc47768-ffda-41dc-9e58-de0b138a4694",
   "metadata": {},
   "outputs": [
    {
     "data": {
      "text/html": [
       "<div>\n",
       "<style scoped>\n",
       "    .dataframe tbody tr th:only-of-type {\n",
       "        vertical-align: middle;\n",
       "    }\n",
       "\n",
       "    .dataframe tbody tr th {\n",
       "        vertical-align: top;\n",
       "    }\n",
       "\n",
       "    .dataframe thead th {\n",
       "        text-align: right;\n",
       "    }\n",
       "</style>\n",
       "<table border=\"1\" class=\"dataframe\">\n",
       "  <thead>\n",
       "    <tr style=\"text-align: right;\">\n",
       "      <th></th>\n",
       "      <th>EmployeeID</th>\n",
       "      <th>EffectiveDate</th>\n",
       "      <th>BaseSalaryZAR</th>\n",
       "      <th>BonusZAR</th>\n",
       "      <th>TotalCompZAR</th>\n",
       "    </tr>\n",
       "  </thead>\n",
       "  <tbody>\n",
       "    <tr>\n",
       "      <th>count</th>\n",
       "      <td>500.00</td>\n",
       "      <td>500</td>\n",
       "      <td>500.00</td>\n",
       "      <td>500.00</td>\n",
       "      <td>500.00</td>\n",
       "    </tr>\n",
       "    <tr>\n",
       "      <th>unique</th>\n",
       "      <td>NaN</td>\n",
       "      <td>1</td>\n",
       "      <td>NaN</td>\n",
       "      <td>NaN</td>\n",
       "      <td>NaN</td>\n",
       "    </tr>\n",
       "    <tr>\n",
       "      <th>top</th>\n",
       "      <td>NaN</td>\n",
       "      <td>2025-01-01</td>\n",
       "      <td>NaN</td>\n",
       "      <td>NaN</td>\n",
       "      <td>NaN</td>\n",
       "    </tr>\n",
       "    <tr>\n",
       "      <th>freq</th>\n",
       "      <td>NaN</td>\n",
       "      <td>500</td>\n",
       "      <td>NaN</td>\n",
       "      <td>NaN</td>\n",
       "      <td>NaN</td>\n",
       "    </tr>\n",
       "    <tr>\n",
       "      <th>mean</th>\n",
       "      <td>250.50</td>\n",
       "      <td>NaN</td>\n",
       "      <td>45962.02</td>\n",
       "      <td>5865.94</td>\n",
       "      <td>51827.96</td>\n",
       "    </tr>\n",
       "    <tr>\n",
       "      <th>std</th>\n",
       "      <td>144.48</td>\n",
       "      <td>NaN</td>\n",
       "      <td>18971.38</td>\n",
       "      <td>3273.02</td>\n",
       "      <td>21544.12</td>\n",
       "    </tr>\n",
       "    <tr>\n",
       "      <th>min</th>\n",
       "      <td>1.00</td>\n",
       "      <td>NaN</td>\n",
       "      <td>15138.00</td>\n",
       "      <td>895.00</td>\n",
       "      <td>16469.00</td>\n",
       "    </tr>\n",
       "    <tr>\n",
       "      <th>25%</th>\n",
       "      <td>125.75</td>\n",
       "      <td>NaN</td>\n",
       "      <td>29125.25</td>\n",
       "      <td>3249.75</td>\n",
       "      <td>32855.50</td>\n",
       "    </tr>\n",
       "    <tr>\n",
       "      <th>50%</th>\n",
       "      <td>250.50</td>\n",
       "      <td>NaN</td>\n",
       "      <td>44361.00</td>\n",
       "      <td>5167.50</td>\n",
       "      <td>49413.50</td>\n",
       "    </tr>\n",
       "    <tr>\n",
       "      <th>75%</th>\n",
       "      <td>375.25</td>\n",
       "      <td>NaN</td>\n",
       "      <td>63469.75</td>\n",
       "      <td>8201.00</td>\n",
       "      <td>72133.00</td>\n",
       "    </tr>\n",
       "    <tr>\n",
       "      <th>max</th>\n",
       "      <td>500.00</td>\n",
       "      <td>NaN</td>\n",
       "      <td>79962.00</td>\n",
       "      <td>15212.00</td>\n",
       "      <td>95174.00</td>\n",
       "    </tr>\n",
       "  </tbody>\n",
       "</table>\n",
       "</div>"
      ],
      "text/plain": [
       "        EmployeeID EffectiveDate  BaseSalaryZAR  BonusZAR  TotalCompZAR\n",
       "count       500.00           500         500.00    500.00        500.00\n",
       "unique         NaN             1            NaN       NaN           NaN\n",
       "top            NaN    2025-01-01            NaN       NaN           NaN\n",
       "freq           NaN           500            NaN       NaN           NaN\n",
       "mean        250.50           NaN       45962.02   5865.94      51827.96\n",
       "std         144.48           NaN       18971.38   3273.02      21544.12\n",
       "min           1.00           NaN       15138.00    895.00      16469.00\n",
       "25%         125.75           NaN       29125.25   3249.75      32855.50\n",
       "50%         250.50           NaN       44361.00   5167.50      49413.50\n",
       "75%         375.25           NaN       63469.75   8201.00      72133.00\n",
       "max         500.00           NaN       79962.00  15212.00      95174.00"
      ]
     },
     "execution_count": 77,
     "metadata": {},
     "output_type": "execute_result"
    }
   ],
   "source": [
    "compensation.describe(include = 'all').round(2) # Descriptive stats"
   ]
  },
  {
   "cell_type": "code",
   "execution_count": 78,
   "id": "ab2ddb60-6c13-4c5b-8bfe-ec24c225604e",
   "metadata": {},
   "outputs": [
    {
     "data": {
      "text/plain": [
       "BaseSalaryZAR    0\n",
       "BonusZAR         0\n",
       "dtype: int64"
      ]
     },
     "execution_count": 78,
     "metadata": {},
     "output_type": "execute_result"
    }
   ],
   "source": [
    "(compensation[['BaseSalaryZAR', 'BonusZAR']] <= 0).sum()\n",
    "# Checking for negative values to verify data integrity"
   ]
  },
  {
   "cell_type": "code",
   "execution_count": 79,
   "id": "a550ee91-b219-4a86-91f4-0b075c82aece",
   "metadata": {},
   "outputs": [
    {
     "data": {
      "text/plain": [
       "np.int64(0)"
      ]
     },
     "execution_count": 79,
     "metadata": {},
     "output_type": "execute_result"
    }
   ],
   "source": [
    "compensation['EmployeeID'].duplicated().sum()\n",
    "# Checking if there are duplicate employee IDs"
   ]
  },
  {
   "cell_type": "code",
   "execution_count": 80,
   "id": "4dd056ec-a125-413d-ae95-485ce01f7eb6",
   "metadata": {},
   "outputs": [],
   "source": [
    "# I want to do a check to see how much each person earns based on their role to identify outliers.\n",
    "# I need to check the tables to find the table with the roles."
   ]
  },
  {
   "cell_type": "code",
   "execution_count": 81,
   "id": "adccee58-9ae8-41a1-a5b9-4c9fb0af0594",
   "metadata": {},
   "outputs": [
    {
     "data": {
      "text/html": [
       "<div>\n",
       "<style scoped>\n",
       "    .dataframe tbody tr th:only-of-type {\n",
       "        vertical-align: middle;\n",
       "    }\n",
       "\n",
       "    .dataframe tbody tr th {\n",
       "        vertical-align: top;\n",
       "    }\n",
       "\n",
       "    .dataframe thead th {\n",
       "        text-align: right;\n",
       "    }\n",
       "</style>\n",
       "<table border=\"1\" class=\"dataframe\">\n",
       "  <thead>\n",
       "    <tr style=\"text-align: right;\">\n",
       "      <th></th>\n",
       "      <th>EmployeeID</th>\n",
       "      <th>Gender</th>\n",
       "      <th>Age</th>\n",
       "      <th>HireDate</th>\n",
       "      <th>DepartmentID</th>\n",
       "      <th>RoleID</th>\n",
       "      <th>EmploymentType</th>\n",
       "      <th>Status</th>\n",
       "    </tr>\n",
       "  </thead>\n",
       "  <tbody>\n",
       "    <tr>\n",
       "      <th>0</th>\n",
       "      <td>1</td>\n",
       "      <td>M</td>\n",
       "      <td>42</td>\n",
       "      <td>2022-03-04</td>\n",
       "      <td>4</td>\n",
       "      <td>1</td>\n",
       "      <td>Permanent</td>\n",
       "      <td>Active</td>\n",
       "    </tr>\n",
       "    <tr>\n",
       "      <th>1</th>\n",
       "      <td>2</td>\n",
       "      <td>F</td>\n",
       "      <td>53</td>\n",
       "      <td>2016-04-01</td>\n",
       "      <td>4</td>\n",
       "      <td>3</td>\n",
       "      <td>Permanent</td>\n",
       "      <td>Active</td>\n",
       "    </tr>\n",
       "    <tr>\n",
       "      <th>2</th>\n",
       "      <td>3</td>\n",
       "      <td>M</td>\n",
       "      <td>44</td>\n",
       "      <td>2015-04-13</td>\n",
       "      <td>3</td>\n",
       "      <td>5</td>\n",
       "      <td>Permanent</td>\n",
       "      <td>Terminated</td>\n",
       "    </tr>\n",
       "    <tr>\n",
       "      <th>3</th>\n",
       "      <td>4</td>\n",
       "      <td>M</td>\n",
       "      <td>54</td>\n",
       "      <td>2023-04-26</td>\n",
       "      <td>4</td>\n",
       "      <td>4</td>\n",
       "      <td>Permanent</td>\n",
       "      <td>Active</td>\n",
       "    </tr>\n",
       "    <tr>\n",
       "      <th>4</th>\n",
       "      <td>5</td>\n",
       "      <td>M</td>\n",
       "      <td>24</td>\n",
       "      <td>2018-01-31</td>\n",
       "      <td>7</td>\n",
       "      <td>3</td>\n",
       "      <td>Permanent</td>\n",
       "      <td>Active</td>\n",
       "    </tr>\n",
       "  </tbody>\n",
       "</table>\n",
       "</div>"
      ],
      "text/plain": [
       "   EmployeeID Gender  Age    HireDate  DepartmentID  RoleID EmploymentType  \\\n",
       "0           1      M   42  2022-03-04             4       1      Permanent   \n",
       "1           2      F   53  2016-04-01             4       3      Permanent   \n",
       "2           3      M   44  2015-04-13             3       5      Permanent   \n",
       "3           4      M   54  2023-04-26             4       4      Permanent   \n",
       "4           5      M   24  2018-01-31             7       3      Permanent   \n",
       "\n",
       "       Status  \n",
       "0      Active  \n",
       "1      Active  \n",
       "2  Terminated  \n",
       "3      Active  \n",
       "4      Active  "
      ]
     },
     "execution_count": 81,
     "metadata": {},
     "output_type": "execute_result"
    }
   ],
   "source": [
    "employees.head()"
   ]
  },
  {
   "cell_type": "code",
   "execution_count": 82,
   "id": "b47dc8c5-8c67-4757-a5b7-26bc095d079a",
   "metadata": {},
   "outputs": [],
   "source": [
    "# This table has a 'RoleID' column but that's not very descriptive of what the role is. Let's keep looking."
   ]
  },
  {
   "cell_type": "code",
   "execution_count": 83,
   "id": "5d7ce107-0863-4575-8286-e79fa63d1bad",
   "metadata": {},
   "outputs": [
    {
     "data": {
      "text/html": [
       "<div>\n",
       "<style scoped>\n",
       "    .dataframe tbody tr th:only-of-type {\n",
       "        vertical-align: middle;\n",
       "    }\n",
       "\n",
       "    .dataframe tbody tr th {\n",
       "        vertical-align: top;\n",
       "    }\n",
       "\n",
       "    .dataframe thead th {\n",
       "        text-align: right;\n",
       "    }\n",
       "</style>\n",
       "<table border=\"1\" class=\"dataframe\">\n",
       "  <thead>\n",
       "    <tr style=\"text-align: right;\">\n",
       "      <th></th>\n",
       "      <th>EmployeeID</th>\n",
       "      <th>SurveyDate</th>\n",
       "      <th>EngagementScore</th>\n",
       "      <th>WorkLifeBalance</th>\n",
       "      <th>JobSatisfaction</th>\n",
       "    </tr>\n",
       "  </thead>\n",
       "  <tbody>\n",
       "    <tr>\n",
       "      <th>0</th>\n",
       "      <td>1</td>\n",
       "      <td>2024-12-01</td>\n",
       "      <td>51</td>\n",
       "      <td>3</td>\n",
       "      <td>1</td>\n",
       "    </tr>\n",
       "    <tr>\n",
       "      <th>1</th>\n",
       "      <td>2</td>\n",
       "      <td>2024-12-01</td>\n",
       "      <td>69</td>\n",
       "      <td>2</td>\n",
       "      <td>3</td>\n",
       "    </tr>\n",
       "    <tr>\n",
       "      <th>2</th>\n",
       "      <td>3</td>\n",
       "      <td>2024-12-01</td>\n",
       "      <td>44</td>\n",
       "      <td>1</td>\n",
       "      <td>3</td>\n",
       "    </tr>\n",
       "    <tr>\n",
       "      <th>3</th>\n",
       "      <td>4</td>\n",
       "      <td>2024-12-01</td>\n",
       "      <td>73</td>\n",
       "      <td>2</td>\n",
       "      <td>3</td>\n",
       "    </tr>\n",
       "    <tr>\n",
       "      <th>4</th>\n",
       "      <td>5</td>\n",
       "      <td>2024-12-01</td>\n",
       "      <td>61</td>\n",
       "      <td>5</td>\n",
       "      <td>3</td>\n",
       "    </tr>\n",
       "  </tbody>\n",
       "</table>\n",
       "</div>"
      ],
      "text/plain": [
       "   EmployeeID  SurveyDate  EngagementScore  WorkLifeBalance  JobSatisfaction\n",
       "0           1  2024-12-01               51                3                1\n",
       "1           2  2024-12-01               69                2                3\n",
       "2           3  2024-12-01               44                1                3\n",
       "3           4  2024-12-01               73                2                3\n",
       "4           5  2024-12-01               61                5                3"
      ]
     },
     "execution_count": 83,
     "metadata": {},
     "output_type": "execute_result"
    }
   ],
   "source": [
    "engagement.head()"
   ]
  },
  {
   "cell_type": "code",
   "execution_count": 84,
   "id": "ef72812e-3a0f-4b24-a773-c1379cfef0c5",
   "metadata": {},
   "outputs": [
    {
     "data": {
      "text/html": [
       "<div>\n",
       "<style scoped>\n",
       "    .dataframe tbody tr th:only-of-type {\n",
       "        vertical-align: middle;\n",
       "    }\n",
       "\n",
       "    .dataframe tbody tr th {\n",
       "        vertical-align: top;\n",
       "    }\n",
       "\n",
       "    .dataframe thead th {\n",
       "        text-align: right;\n",
       "    }\n",
       "</style>\n",
       "<table border=\"1\" class=\"dataframe\">\n",
       "  <thead>\n",
       "    <tr style=\"text-align: right;\">\n",
       "      <th></th>\n",
       "      <th>EmployeeID</th>\n",
       "      <th>ReviewDate</th>\n",
       "      <th>PerformanceScore</th>\n",
       "      <th>PromotionEligible</th>\n",
       "      <th>PromotionGranted</th>\n",
       "    </tr>\n",
       "  </thead>\n",
       "  <tbody>\n",
       "    <tr>\n",
       "      <th>0</th>\n",
       "      <td>1</td>\n",
       "      <td>2024-12-31</td>\n",
       "      <td>3</td>\n",
       "      <td>0</td>\n",
       "      <td>0</td>\n",
       "    </tr>\n",
       "    <tr>\n",
       "      <th>1</th>\n",
       "      <td>2</td>\n",
       "      <td>2024-12-31</td>\n",
       "      <td>2</td>\n",
       "      <td>0</td>\n",
       "      <td>0</td>\n",
       "    </tr>\n",
       "    <tr>\n",
       "      <th>2</th>\n",
       "      <td>3</td>\n",
       "      <td>2024-12-31</td>\n",
       "      <td>3</td>\n",
       "      <td>0</td>\n",
       "      <td>0</td>\n",
       "    </tr>\n",
       "    <tr>\n",
       "      <th>3</th>\n",
       "      <td>4</td>\n",
       "      <td>2024-12-31</td>\n",
       "      <td>5</td>\n",
       "      <td>0</td>\n",
       "      <td>0</td>\n",
       "    </tr>\n",
       "    <tr>\n",
       "      <th>4</th>\n",
       "      <td>5</td>\n",
       "      <td>2024-12-31</td>\n",
       "      <td>2</td>\n",
       "      <td>0</td>\n",
       "      <td>0</td>\n",
       "    </tr>\n",
       "  </tbody>\n",
       "</table>\n",
       "</div>"
      ],
      "text/plain": [
       "   EmployeeID  ReviewDate  PerformanceScore  PromotionEligible  \\\n",
       "0           1  2024-12-31                 3                  0   \n",
       "1           2  2024-12-31                 2                  0   \n",
       "2           3  2024-12-31                 3                  0   \n",
       "3           4  2024-12-31                 5                  0   \n",
       "4           5  2024-12-31                 2                  0   \n",
       "\n",
       "   PromotionGranted  \n",
       "0                 0  \n",
       "1                 0  \n",
       "2                 0  \n",
       "3                 0  \n",
       "4                 0  "
      ]
     },
     "execution_count": 84,
     "metadata": {},
     "output_type": "execute_result"
    }
   ],
   "source": [
    "performance.head()"
   ]
  },
  {
   "cell_type": "code",
   "execution_count": 85,
   "id": "576df810-90c2-4307-bdce-b418942986df",
   "metadata": {},
   "outputs": [
    {
     "data": {
      "text/html": [
       "<div>\n",
       "<style scoped>\n",
       "    .dataframe tbody tr th:only-of-type {\n",
       "        vertical-align: middle;\n",
       "    }\n",
       "\n",
       "    .dataframe tbody tr th {\n",
       "        vertical-align: top;\n",
       "    }\n",
       "\n",
       "    .dataframe thead th {\n",
       "        text-align: right;\n",
       "    }\n",
       "</style>\n",
       "<table border=\"1\" class=\"dataframe\">\n",
       "  <thead>\n",
       "    <tr style=\"text-align: right;\">\n",
       "      <th></th>\n",
       "      <th>EmployeeID</th>\n",
       "      <th>TrainingDate</th>\n",
       "      <th>TrainingType</th>\n",
       "      <th>Hours</th>\n",
       "    </tr>\n",
       "  </thead>\n",
       "  <tbody>\n",
       "    <tr>\n",
       "      <th>0</th>\n",
       "      <td>1</td>\n",
       "      <td>2024-01-13</td>\n",
       "      <td>Finance</td>\n",
       "      <td>22</td>\n",
       "    </tr>\n",
       "    <tr>\n",
       "      <th>1</th>\n",
       "      <td>1</td>\n",
       "      <td>2024-01-24</td>\n",
       "      <td>Technical</td>\n",
       "      <td>33</td>\n",
       "    </tr>\n",
       "    <tr>\n",
       "      <th>2</th>\n",
       "      <td>2</td>\n",
       "      <td>2024-05-05</td>\n",
       "      <td>Soft Skills</td>\n",
       "      <td>24</td>\n",
       "    </tr>\n",
       "    <tr>\n",
       "      <th>3</th>\n",
       "      <td>2</td>\n",
       "      <td>2024-08-31</td>\n",
       "      <td>Compliance</td>\n",
       "      <td>34</td>\n",
       "    </tr>\n",
       "    <tr>\n",
       "      <th>4</th>\n",
       "      <td>2</td>\n",
       "      <td>2024-11-08</td>\n",
       "      <td>Soft Skills</td>\n",
       "      <td>34</td>\n",
       "    </tr>\n",
       "  </tbody>\n",
       "</table>\n",
       "</div>"
      ],
      "text/plain": [
       "   EmployeeID TrainingDate TrainingType  Hours\n",
       "0           1   2024-01-13      Finance     22\n",
       "1           1   2024-01-24    Technical     33\n",
       "2           2   2024-05-05  Soft Skills     24\n",
       "3           2   2024-08-31   Compliance     34\n",
       "4           2   2024-11-08  Soft Skills     34"
      ]
     },
     "execution_count": 85,
     "metadata": {},
     "output_type": "execute_result"
    }
   ],
   "source": [
    "training.head()"
   ]
  },
  {
   "cell_type": "code",
   "execution_count": 86,
   "id": "4d237162-74cb-467b-a83b-e274acad0ba2",
   "metadata": {},
   "outputs": [],
   "source": [
    "# It seems like RoleID is all I have to work with. Would recommend the table be updated to include the job title, department, or level.\n",
    "# I need to join the compensation table with the employees table to pull the role IDs"
   ]
  },
  {
   "cell_type": "code",
   "execution_count": 87,
   "id": "591782b1-d0f8-4445-a004-aab64b77c3c0",
   "metadata": {},
   "outputs": [
    {
     "ename": "_IncompleteInputError",
     "evalue": "incomplete input (190909831.py, line 4)",
     "output_type": "error",
     "traceback": [
      "\u001b[1;36m  Cell \u001b[1;32mIn[87], line 4\u001b[1;36m\u001b[0m\n\u001b[1;33m    how = 'left' # Left join\u001b[0m\n\u001b[1;37m                            ^\u001b[0m\n\u001b[1;31m_IncompleteInputError\u001b[0m\u001b[1;31m:\u001b[0m incomplete input\n"
     ]
    }
   ],
   "source": [
    "role_comp = compensation.merge( # Names the new table and starts the merge \n",
    "    employees[['EmployeeID', 'RoleID']], # Bringing in the 'employeeID' and 'RoleID' columns from the employees table\n",
    "    on = 'EmployeeID', # 'EmployeeID' is our reference column\n",
    "    how = 'left' # Left join"
   ]
  },
  {
   "cell_type": "code",
   "execution_count": 88,
   "id": "32cd4551-9998-4324-bc1e-6433239b871b",
   "metadata": {},
   "outputs": [],
   "source": [
    "# Oh, close the brackets... Duh!"
   ]
  },
  {
   "cell_type": "code",
   "execution_count": 89,
   "id": "8d96814e-8ac0-4a70-92aa-9a717c4db25e",
   "metadata": {},
   "outputs": [],
   "source": [
    "role_comp = compensation.merge( # Names the new table and starts the merge \n",
    "    employees[['EmployeeID', 'RoleID']], # Bringing in the 'employeeID' and 'RoleID' columns from the employees table\n",
    "    on = 'EmployeeID', # 'EmployeeID' is our reference column\n",
    "    how = 'left' # Left join\n",
    ")"
   ]
  },
  {
   "cell_type": "code",
   "execution_count": 90,
   "id": "05bf4707-d895-4780-bd1e-bb62df1411e7",
   "metadata": {},
   "outputs": [
    {
     "data": {
      "text/html": [
       "<div>\n",
       "<style scoped>\n",
       "    .dataframe tbody tr th:only-of-type {\n",
       "        vertical-align: middle;\n",
       "    }\n",
       "\n",
       "    .dataframe tbody tr th {\n",
       "        vertical-align: top;\n",
       "    }\n",
       "\n",
       "    .dataframe thead th {\n",
       "        text-align: right;\n",
       "    }\n",
       "</style>\n",
       "<table border=\"1\" class=\"dataframe\">\n",
       "  <thead>\n",
       "    <tr style=\"text-align: right;\">\n",
       "      <th></th>\n",
       "      <th>EmployeeID</th>\n",
       "      <th>EffectiveDate</th>\n",
       "      <th>BaseSalaryZAR</th>\n",
       "      <th>BonusZAR</th>\n",
       "      <th>TotalCompZAR</th>\n",
       "      <th>RoleID</th>\n",
       "    </tr>\n",
       "  </thead>\n",
       "  <tbody>\n",
       "    <tr>\n",
       "      <th>0</th>\n",
       "      <td>1</td>\n",
       "      <td>2025-01-01</td>\n",
       "      <td>54832</td>\n",
       "      <td>10203</td>\n",
       "      <td>65035</td>\n",
       "      <td>1</td>\n",
       "    </tr>\n",
       "    <tr>\n",
       "      <th>1</th>\n",
       "      <td>2</td>\n",
       "      <td>2025-01-01</td>\n",
       "      <td>22446</td>\n",
       "      <td>4297</td>\n",
       "      <td>26743</td>\n",
       "      <td>3</td>\n",
       "    </tr>\n",
       "    <tr>\n",
       "      <th>2</th>\n",
       "      <td>3</td>\n",
       "      <td>2025-01-01</td>\n",
       "      <td>65583</td>\n",
       "      <td>7434</td>\n",
       "      <td>73017</td>\n",
       "      <td>5</td>\n",
       "    </tr>\n",
       "    <tr>\n",
       "      <th>3</th>\n",
       "      <td>4</td>\n",
       "      <td>2025-01-01</td>\n",
       "      <td>53392</td>\n",
       "      <td>5691</td>\n",
       "      <td>59083</td>\n",
       "      <td>4</td>\n",
       "    </tr>\n",
       "    <tr>\n",
       "      <th>4</th>\n",
       "      <td>5</td>\n",
       "      <td>2025-01-01</td>\n",
       "      <td>22461</td>\n",
       "      <td>4277</td>\n",
       "      <td>26738</td>\n",
       "      <td>3</td>\n",
       "    </tr>\n",
       "  </tbody>\n",
       "</table>\n",
       "</div>"
      ],
      "text/plain": [
       "   EmployeeID EffectiveDate  BaseSalaryZAR  BonusZAR  TotalCompZAR  RoleID\n",
       "0           1    2025-01-01          54832     10203         65035       1\n",
       "1           2    2025-01-01          22446      4297         26743       3\n",
       "2           3    2025-01-01          65583      7434         73017       5\n",
       "3           4    2025-01-01          53392      5691         59083       4\n",
       "4           5    2025-01-01          22461      4277         26738       3"
      ]
     },
     "execution_count": 90,
     "metadata": {},
     "output_type": "execute_result"
    }
   ],
   "source": [
    "role_comp.head() # Checking the table"
   ]
  },
  {
   "cell_type": "code",
   "execution_count": 91,
   "id": "3e3fbde9-075b-4db1-8d22-ad956e62d404",
   "metadata": {},
   "outputs": [
    {
     "ename": "IndentationError",
     "evalue": "unexpected indent (4008174361.py, line 2)",
     "output_type": "error",
     "traceback": [
      "\u001b[1;36m  Cell \u001b[1;32mIn[91], line 2\u001b[1;36m\u001b[0m\n\u001b[1;33m    .groupby('RoleID')['BaseSalaryZar'] # Grouping by 'RoleID' and working with 'BaseSalaryZAR' columns\u001b[0m\n\u001b[1;37m    ^\u001b[0m\n\u001b[1;31mIndentationError\u001b[0m\u001b[1;31m:\u001b[0m unexpected indent\n"
     ]
    }
   ],
   "source": [
    "role_comp # Working with role_comp table\n",
    "    .groupby('RoleID')['BaseSalaryZar'] # Grouping by 'RoleID' and working with 'BaseSalaryZAR' columns\n",
    "    .describe() # Descriptive stats\n",
    "    .round(2) # Rounding to 2 decimal places. \n",
    "# Do I need brackets?"
   ]
  },
  {
   "cell_type": "code",
   "execution_count": 92,
   "id": "9a73a30c-7c3c-46c2-829c-b9c622250c5f",
   "metadata": {},
   "outputs": [],
   "source": [
    "# I think I need brackets..."
   ]
  },
  {
   "cell_type": "code",
   "execution_count": 93,
   "id": "82d599ed-a86e-4a08-9fb9-1290e98d7739",
   "metadata": {},
   "outputs": [
    {
     "ename": "SyntaxError",
     "evalue": "invalid syntax (2020181090.py, line 2)",
     "output_type": "error",
     "traceback": [
      "\u001b[1;36m  Cell \u001b[1;32mIn[93], line 2\u001b[1;36m\u001b[0m\n\u001b[1;33m    .groupby('RoleID')['BaseSalaryZar'] # Grouping by 'RoleID' and working with 'BaseSalaryZAR' columns\u001b[0m\n\u001b[1;37m    ^\u001b[0m\n\u001b[1;31mSyntaxError\u001b[0m\u001b[1;31m:\u001b[0m invalid syntax\n"
     ]
    }
   ],
   "source": [
    "role_comp ( # Working with role_comp table\n",
    "    .groupby('RoleID')['BaseSalaryZar'] # Grouping by 'RoleID' and working with 'BaseSalaryZAR' columns\n",
    "    .describe() # Descriptive stats\n",
    "    .round(2) # Rounding to 2 decimal places. \n",
    ")"
   ]
  },
  {
   "cell_type": "code",
   "execution_count": 94,
   "id": "acd37065-aa89-4fd8-b8c6-84df736b4d83",
   "metadata": {},
   "outputs": [],
   "source": [
    "# Apparently I can't write it out like that... let's try one line"
   ]
  },
  {
   "cell_type": "code",
   "execution_count": 95,
   "id": "8f901f43-95ac-4b41-aa1b-54444fd8112e",
   "metadata": {},
   "outputs": [
    {
     "data": {
      "text/html": [
       "<div>\n",
       "<style scoped>\n",
       "    .dataframe tbody tr th:only-of-type {\n",
       "        vertical-align: middle;\n",
       "    }\n",
       "\n",
       "    .dataframe tbody tr th {\n",
       "        vertical-align: top;\n",
       "    }\n",
       "\n",
       "    .dataframe thead th {\n",
       "        text-align: right;\n",
       "    }\n",
       "</style>\n",
       "<table border=\"1\" class=\"dataframe\">\n",
       "  <thead>\n",
       "    <tr style=\"text-align: right;\">\n",
       "      <th></th>\n",
       "      <th>count</th>\n",
       "      <th>mean</th>\n",
       "      <th>std</th>\n",
       "      <th>min</th>\n",
       "      <th>25%</th>\n",
       "      <th>50%</th>\n",
       "      <th>75%</th>\n",
       "      <th>max</th>\n",
       "    </tr>\n",
       "    <tr>\n",
       "      <th>RoleID</th>\n",
       "      <th></th>\n",
       "      <th></th>\n",
       "      <th></th>\n",
       "      <th></th>\n",
       "      <th></th>\n",
       "      <th></th>\n",
       "      <th></th>\n",
       "      <th></th>\n",
       "    </tr>\n",
       "  </thead>\n",
       "  <tbody>\n",
       "    <tr>\n",
       "      <th>1</th>\n",
       "      <td>51.0</td>\n",
       "      <td>49330.02</td>\n",
       "      <td>19172.23</td>\n",
       "      <td>15882.0</td>\n",
       "      <td>34104.00</td>\n",
       "      <td>54832.0</td>\n",
       "      <td>65373.50</td>\n",
       "      <td>79353.0</td>\n",
       "    </tr>\n",
       "    <tr>\n",
       "      <th>2</th>\n",
       "      <td>58.0</td>\n",
       "      <td>41440.09</td>\n",
       "      <td>18067.27</td>\n",
       "      <td>15159.0</td>\n",
       "      <td>26759.75</td>\n",
       "      <td>37315.0</td>\n",
       "      <td>50214.25</td>\n",
       "      <td>77551.0</td>\n",
       "    </tr>\n",
       "    <tr>\n",
       "      <th>3</th>\n",
       "      <td>55.0</td>\n",
       "      <td>41299.78</td>\n",
       "      <td>17703.51</td>\n",
       "      <td>16589.0</td>\n",
       "      <td>26767.00</td>\n",
       "      <td>40833.0</td>\n",
       "      <td>52604.50</td>\n",
       "      <td>79815.0</td>\n",
       "    </tr>\n",
       "    <tr>\n",
       "      <th>4</th>\n",
       "      <td>45.0</td>\n",
       "      <td>45038.27</td>\n",
       "      <td>18373.40</td>\n",
       "      <td>15138.0</td>\n",
       "      <td>31566.00</td>\n",
       "      <td>41917.0</td>\n",
       "      <td>60505.00</td>\n",
       "      <td>73653.0</td>\n",
       "    </tr>\n",
       "    <tr>\n",
       "      <th>5</th>\n",
       "      <td>43.0</td>\n",
       "      <td>41238.93</td>\n",
       "      <td>19437.78</td>\n",
       "      <td>16960.0</td>\n",
       "      <td>25701.00</td>\n",
       "      <td>34225.0</td>\n",
       "      <td>55894.00</td>\n",
       "      <td>79047.0</td>\n",
       "    </tr>\n",
       "    <tr>\n",
       "      <th>6</th>\n",
       "      <td>46.0</td>\n",
       "      <td>52108.37</td>\n",
       "      <td>18901.81</td>\n",
       "      <td>16207.0</td>\n",
       "      <td>39037.50</td>\n",
       "      <td>54376.0</td>\n",
       "      <td>70740.00</td>\n",
       "      <td>77493.0</td>\n",
       "    </tr>\n",
       "    <tr>\n",
       "      <th>7</th>\n",
       "      <td>45.0</td>\n",
       "      <td>47705.87</td>\n",
       "      <td>19953.26</td>\n",
       "      <td>15340.0</td>\n",
       "      <td>29138.00</td>\n",
       "      <td>48210.0</td>\n",
       "      <td>67425.00</td>\n",
       "      <td>79400.0</td>\n",
       "    </tr>\n",
       "    <tr>\n",
       "      <th>8</th>\n",
       "      <td>55.0</td>\n",
       "      <td>50856.87</td>\n",
       "      <td>17826.88</td>\n",
       "      <td>18236.0</td>\n",
       "      <td>36983.00</td>\n",
       "      <td>52226.0</td>\n",
       "      <td>66477.50</td>\n",
       "      <td>78922.0</td>\n",
       "    </tr>\n",
       "    <tr>\n",
       "      <th>9</th>\n",
       "      <td>52.0</td>\n",
       "      <td>47436.50</td>\n",
       "      <td>20518.90</td>\n",
       "      <td>16098.0</td>\n",
       "      <td>27925.25</td>\n",
       "      <td>49514.0</td>\n",
       "      <td>66637.00</td>\n",
       "      <td>79962.0</td>\n",
       "    </tr>\n",
       "    <tr>\n",
       "      <th>10</th>\n",
       "      <td>50.0</td>\n",
       "      <td>43651.86</td>\n",
       "      <td>17616.26</td>\n",
       "      <td>15557.0</td>\n",
       "      <td>30439.00</td>\n",
       "      <td>40698.5</td>\n",
       "      <td>57711.75</td>\n",
       "      <td>75011.0</td>\n",
       "    </tr>\n",
       "  </tbody>\n",
       "</table>\n",
       "</div>"
      ],
      "text/plain": [
       "        count      mean       std      min       25%      50%       75%  \\\n",
       "RoleID                                                                    \n",
       "1        51.0  49330.02  19172.23  15882.0  34104.00  54832.0  65373.50   \n",
       "2        58.0  41440.09  18067.27  15159.0  26759.75  37315.0  50214.25   \n",
       "3        55.0  41299.78  17703.51  16589.0  26767.00  40833.0  52604.50   \n",
       "4        45.0  45038.27  18373.40  15138.0  31566.00  41917.0  60505.00   \n",
       "5        43.0  41238.93  19437.78  16960.0  25701.00  34225.0  55894.00   \n",
       "6        46.0  52108.37  18901.81  16207.0  39037.50  54376.0  70740.00   \n",
       "7        45.0  47705.87  19953.26  15340.0  29138.00  48210.0  67425.00   \n",
       "8        55.0  50856.87  17826.88  18236.0  36983.00  52226.0  66477.50   \n",
       "9        52.0  47436.50  20518.90  16098.0  27925.25  49514.0  66637.00   \n",
       "10       50.0  43651.86  17616.26  15557.0  30439.00  40698.5  57711.75   \n",
       "\n",
       "            max  \n",
       "RoleID           \n",
       "1       79353.0  \n",
       "2       77551.0  \n",
       "3       79815.0  \n",
       "4       73653.0  \n",
       "5       79047.0  \n",
       "6       77493.0  \n",
       "7       79400.0  \n",
       "8       78922.0  \n",
       "9       79962.0  \n",
       "10      75011.0  "
      ]
     },
     "execution_count": 95,
     "metadata": {},
     "output_type": "execute_result"
    }
   ],
   "source": [
    "role_comp.groupby('RoleID')['BaseSalaryZAR'].describe().round(2)"
   ]
  },
  {
   "cell_type": "code",
   "execution_count": 96,
   "id": "0dc45594-1ac5-42c9-a32b-6959759d1a34",
   "metadata": {},
   "outputs": [],
   "source": [
    "# This data is very strange. There is very little variance between the roles.\n",
    "# We would expect greater variance as you move up the ranks.\n",
    "# There should be management staff, skilled professionals, admin staff, etc here.\n",
    "# So why are there as many managers as there are support staff? Why are their salaries so close? What's going on?\n",
    "# We don't know what RoleID corresponds with which role/level. We would need to check with HR and investigate the data.\n",
    "# Are the salary bands really this close? This may indicate pay compression issues."
   ]
  },
  {
   "cell_type": "code",
   "execution_count": 97,
   "id": "09a46d63-b49f-459a-b529-b7b73ac03041",
   "metadata": {},
   "outputs": [],
   "source": [
    "# Note: At this stage I am tempted to simply regenerate the dataset and fix these issues. It would make my life much easier. \n",
    "# However, in the working world we don't always get neat and tidy data sets to work with.\n",
    "# So I will continue working with this messy data set so that you can see how I work under pressure. "
   ]
  },
  {
   "cell_type": "code",
   "execution_count": 103,
   "id": "c98101e3-27b3-475d-a1fa-faa190a1ae83",
   "metadata": {},
   "outputs": [
    {
     "data": {
      "text/html": [
       "<div>\n",
       "<style scoped>\n",
       "    .dataframe tbody tr th:only-of-type {\n",
       "        vertical-align: middle;\n",
       "    }\n",
       "\n",
       "    .dataframe tbody tr th {\n",
       "        vertical-align: top;\n",
       "    }\n",
       "\n",
       "    .dataframe thead th {\n",
       "        text-align: right;\n",
       "    }\n",
       "</style>\n",
       "<table border=\"1\" class=\"dataframe\">\n",
       "  <thead>\n",
       "    <tr style=\"text-align: right;\">\n",
       "      <th></th>\n",
       "      <th>EmployeeID</th>\n",
       "      <th>EffectiveDate</th>\n",
       "      <th>BaseSalaryZAR</th>\n",
       "      <th>BonusZAR</th>\n",
       "      <th>TotalCompZAR</th>\n",
       "      <th>RoleID</th>\n",
       "      <th>ZScore</th>\n",
       "    </tr>\n",
       "  </thead>\n",
       "  <tbody>\n",
       "  </tbody>\n",
       "</table>\n",
       "</div>"
      ],
      "text/plain": [
       "Empty DataFrame\n",
       "Columns: [EmployeeID, EffectiveDate, BaseSalaryZAR, BonusZAR, TotalCompZAR, RoleID, ZScore]\n",
       "Index: []"
      ]
     },
     "execution_count": 103,
     "metadata": {},
     "output_type": "execute_result"
    }
   ],
   "source": [
    "role_comp['ZScore'] = (\n",
    "    role_comp['BaseSalaryZAR'] \n",
    "    - role_comp.groupby('RoleID')['BaseSalaryZAR'].transform('mean') # Determines the mean salary of each role ID\n",
    ") / role_comp.groupby('RoleID')['BaseSalaryZAR'].transform('std') # Determines the standard deviation of each role ID\n",
    "\n",
    "role_comp[np.abs(role_comp['ZScore']) > 3] # Displays employees with a std deviation greater than 3\n",
    "# We're essentially looking for statistical anomalies."
   ]
  },
  {
   "cell_type": "code",
   "execution_count": 107,
   "id": "5eca573f-e871-419c-b9d4-40320ebe6bb2",
   "metadata": {},
   "outputs": [
    {
     "data": {
      "text/plain": [
       "set()"
      ]
     },
     "execution_count": 107,
     "metadata": {},
     "output_type": "execute_result"
    }
   ],
   "source": [
    "set(compensation['EmployeeID']) - set(employees['EmployeeID'])\n",
    "# Converts the values being grabbed into sets\n",
    "# Grabs the 'EmployeeID' from the compensation and employees tables\n",
    "# Checks for Employee IDs in the compensation table that do not exist in the employees table\n",
    "# This is flag salaries being paid to people not in the employee table, alerting us to orphan salaries"
   ]
  },
  {
   "cell_type": "code",
   "execution_count": 110,
   "id": "78724db2-e6ce-46e3-85be-a0055e5ab455",
   "metadata": {},
   "outputs": [
    {
     "data": {
      "text/plain": [
       "count    500.00\n",
       "mean       0.13\n",
       "std        0.04\n",
       "min        0.05\n",
       "25%        0.09\n",
       "50%        0.13\n",
       "75%        0.16\n",
       "max        0.20\n",
       "dtype: float64"
      ]
     },
     "execution_count": 110,
     "metadata": {},
     "output_type": "execute_result"
    }
   ],
   "source": [
    "(compensation['BonusZAR'] / compensation['BaseSalaryZAR']).describe().round(2)\n",
    "# Divides the bonus by the salary in the compensation table.\n",
    "# This provides us with our bonus/salary ratio\n",
    "# We then get the descriptive stats of this ratio, rounded to 2 decimal places."
   ]
  },
  {
   "cell_type": "code",
   "execution_count": 111,
   "id": "477742a2-9455-4fdc-bc13-4b689bc4712e",
   "metadata": {},
   "outputs": [],
   "source": [
    "# There doesnt seem to be any outliers. All numbers fall within reasonable ranges."
   ]
  },
  {
   "cell_type": "code",
   "execution_count": 112,
   "id": "3e8a3bce-814a-4106-9442-53cd09740cd3",
   "metadata": {},
   "outputs": [],
   "source": [
    "# All checks for the compensation table is done now. \n",
    "# We identified some concerning data in the compensation salary bands. We'll keep an eye on that moving forward.\n",
    "# Let's clean the employees table"
   ]
  },
  {
   "cell_type": "code",
   "execution_count": 113,
   "id": "49cf24d7-9cc4-43e8-b759-ecb92aaa55bd",
   "metadata": {},
   "outputs": [
    {
     "data": {
      "text/plain": [
       "EmployeeID         int64\n",
       "Gender            object\n",
       "Age                int64\n",
       "HireDate          object\n",
       "DepartmentID       int64\n",
       "RoleID             int64\n",
       "EmploymentType    object\n",
       "Status            object\n",
       "dtype: object"
      ]
     },
     "execution_count": 113,
     "metadata": {},
     "output_type": "execute_result"
    }
   ],
   "source": [
    "employees.dtypes"
   ]
  },
  {
   "cell_type": "code",
   "execution_count": 114,
   "id": "8cdc98f6-b72c-410b-8900-d09ac529ab97",
   "metadata": {},
   "outputs": [
    {
     "data": {
      "text/html": [
       "<div>\n",
       "<style scoped>\n",
       "    .dataframe tbody tr th:only-of-type {\n",
       "        vertical-align: middle;\n",
       "    }\n",
       "\n",
       "    .dataframe tbody tr th {\n",
       "        vertical-align: top;\n",
       "    }\n",
       "\n",
       "    .dataframe thead th {\n",
       "        text-align: right;\n",
       "    }\n",
       "</style>\n",
       "<table border=\"1\" class=\"dataframe\">\n",
       "  <thead>\n",
       "    <tr style=\"text-align: right;\">\n",
       "      <th></th>\n",
       "      <th>EmployeeID</th>\n",
       "      <th>Gender</th>\n",
       "      <th>Age</th>\n",
       "      <th>HireDate</th>\n",
       "      <th>DepartmentID</th>\n",
       "      <th>RoleID</th>\n",
       "      <th>EmploymentType</th>\n",
       "      <th>Status</th>\n",
       "    </tr>\n",
       "  </thead>\n",
       "  <tbody>\n",
       "    <tr>\n",
       "      <th>0</th>\n",
       "      <td>1</td>\n",
       "      <td>M</td>\n",
       "      <td>42</td>\n",
       "      <td>2022-03-04</td>\n",
       "      <td>4</td>\n",
       "      <td>1</td>\n",
       "      <td>Permanent</td>\n",
       "      <td>Active</td>\n",
       "    </tr>\n",
       "    <tr>\n",
       "      <th>1</th>\n",
       "      <td>2</td>\n",
       "      <td>F</td>\n",
       "      <td>53</td>\n",
       "      <td>2016-04-01</td>\n",
       "      <td>4</td>\n",
       "      <td>3</td>\n",
       "      <td>Permanent</td>\n",
       "      <td>Active</td>\n",
       "    </tr>\n",
       "    <tr>\n",
       "      <th>2</th>\n",
       "      <td>3</td>\n",
       "      <td>M</td>\n",
       "      <td>44</td>\n",
       "      <td>2015-04-13</td>\n",
       "      <td>3</td>\n",
       "      <td>5</td>\n",
       "      <td>Permanent</td>\n",
       "      <td>Terminated</td>\n",
       "    </tr>\n",
       "    <tr>\n",
       "      <th>3</th>\n",
       "      <td>4</td>\n",
       "      <td>M</td>\n",
       "      <td>54</td>\n",
       "      <td>2023-04-26</td>\n",
       "      <td>4</td>\n",
       "      <td>4</td>\n",
       "      <td>Permanent</td>\n",
       "      <td>Active</td>\n",
       "    </tr>\n",
       "    <tr>\n",
       "      <th>4</th>\n",
       "      <td>5</td>\n",
       "      <td>M</td>\n",
       "      <td>24</td>\n",
       "      <td>2018-01-31</td>\n",
       "      <td>7</td>\n",
       "      <td>3</td>\n",
       "      <td>Permanent</td>\n",
       "      <td>Active</td>\n",
       "    </tr>\n",
       "  </tbody>\n",
       "</table>\n",
       "</div>"
      ],
      "text/plain": [
       "   EmployeeID Gender  Age    HireDate  DepartmentID  RoleID EmploymentType  \\\n",
       "0           1      M   42  2022-03-04             4       1      Permanent   \n",
       "1           2      F   53  2016-04-01             4       3      Permanent   \n",
       "2           3      M   44  2015-04-13             3       5      Permanent   \n",
       "3           4      M   54  2023-04-26             4       4      Permanent   \n",
       "4           5      M   24  2018-01-31             7       3      Permanent   \n",
       "\n",
       "       Status  \n",
       "0      Active  \n",
       "1      Active  \n",
       "2  Terminated  \n",
       "3      Active  \n",
       "4      Active  "
      ]
     },
     "execution_count": 114,
     "metadata": {},
     "output_type": "execute_result"
    }
   ],
   "source": [
    "employees.head()"
   ]
  },
  {
   "cell_type": "code",
   "execution_count": 115,
   "id": "7d11af5e-3e58-478a-8eaa-da2aa35cc79c",
   "metadata": {},
   "outputs": [
    {
     "data": {
      "text/plain": [
       "(500, 8)"
      ]
     },
     "execution_count": 115,
     "metadata": {},
     "output_type": "execute_result"
    }
   ],
   "source": [
    "employees.shape"
   ]
  },
  {
   "cell_type": "code",
   "execution_count": 116,
   "id": "c65bdb28-e714-4b0e-b848-46e6d0d00326",
   "metadata": {},
   "outputs": [
    {
     "data": {
      "text/plain": [
       "EmployeeID        0\n",
       "Gender            0\n",
       "Age               0\n",
       "HireDate          0\n",
       "DepartmentID      0\n",
       "RoleID            0\n",
       "EmploymentType    0\n",
       "Status            0\n",
       "dtype: int64"
      ]
     },
     "execution_count": 116,
     "metadata": {},
     "output_type": "execute_result"
    }
   ],
   "source": [
    "employees.isnull().sum()"
   ]
  },
  {
   "cell_type": "code",
   "execution_count": 117,
   "id": "5e1564d9-4105-4000-9041-65dc642bea79",
   "metadata": {},
   "outputs": [
    {
     "data": {
      "text/html": [
       "<div>\n",
       "<style scoped>\n",
       "    .dataframe tbody tr th:only-of-type {\n",
       "        vertical-align: middle;\n",
       "    }\n",
       "\n",
       "    .dataframe tbody tr th {\n",
       "        vertical-align: top;\n",
       "    }\n",
       "\n",
       "    .dataframe thead th {\n",
       "        text-align: right;\n",
       "    }\n",
       "</style>\n",
       "<table border=\"1\" class=\"dataframe\">\n",
       "  <thead>\n",
       "    <tr style=\"text-align: right;\">\n",
       "      <th></th>\n",
       "      <th>EmployeeID</th>\n",
       "      <th>Gender</th>\n",
       "      <th>Age</th>\n",
       "      <th>HireDate</th>\n",
       "      <th>DepartmentID</th>\n",
       "      <th>RoleID</th>\n",
       "      <th>EmploymentType</th>\n",
       "      <th>Status</th>\n",
       "    </tr>\n",
       "  </thead>\n",
       "  <tbody>\n",
       "    <tr>\n",
       "      <th>count</th>\n",
       "      <td>500.00</td>\n",
       "      <td>500</td>\n",
       "      <td>500.00</td>\n",
       "      <td>500</td>\n",
       "      <td>500.00</td>\n",
       "      <td>500.00</td>\n",
       "      <td>500</td>\n",
       "      <td>500</td>\n",
       "    </tr>\n",
       "    <tr>\n",
       "      <th>unique</th>\n",
       "      <td>NaN</td>\n",
       "      <td>2</td>\n",
       "      <td>NaN</td>\n",
       "      <td>472</td>\n",
       "      <td>NaN</td>\n",
       "      <td>NaN</td>\n",
       "      <td>2</td>\n",
       "      <td>2</td>\n",
       "    </tr>\n",
       "    <tr>\n",
       "      <th>top</th>\n",
       "      <td>NaN</td>\n",
       "      <td>F</td>\n",
       "      <td>NaN</td>\n",
       "      <td>2015-11-19</td>\n",
       "      <td>NaN</td>\n",
       "      <td>NaN</td>\n",
       "      <td>Permanent</td>\n",
       "      <td>Active</td>\n",
       "    </tr>\n",
       "    <tr>\n",
       "      <th>freq</th>\n",
       "      <td>NaN</td>\n",
       "      <td>256</td>\n",
       "      <td>NaN</td>\n",
       "      <td>2</td>\n",
       "      <td>NaN</td>\n",
       "      <td>NaN</td>\n",
       "      <td>374</td>\n",
       "      <td>400</td>\n",
       "    </tr>\n",
       "    <tr>\n",
       "      <th>mean</th>\n",
       "      <td>250.50</td>\n",
       "      <td>NaN</td>\n",
       "      <td>40.99</td>\n",
       "      <td>NaN</td>\n",
       "      <td>4.04</td>\n",
       "      <td>5.45</td>\n",
       "      <td>NaN</td>\n",
       "      <td>NaN</td>\n",
       "    </tr>\n",
       "    <tr>\n",
       "      <th>std</th>\n",
       "      <td>144.48</td>\n",
       "      <td>NaN</td>\n",
       "      <td>11.00</td>\n",
       "      <td>NaN</td>\n",
       "      <td>2.02</td>\n",
       "      <td>2.94</td>\n",
       "      <td>NaN</td>\n",
       "      <td>NaN</td>\n",
       "    </tr>\n",
       "    <tr>\n",
       "      <th>min</th>\n",
       "      <td>1.00</td>\n",
       "      <td>NaN</td>\n",
       "      <td>22.00</td>\n",
       "      <td>NaN</td>\n",
       "      <td>1.00</td>\n",
       "      <td>1.00</td>\n",
       "      <td>NaN</td>\n",
       "      <td>NaN</td>\n",
       "    </tr>\n",
       "    <tr>\n",
       "      <th>25%</th>\n",
       "      <td>125.75</td>\n",
       "      <td>NaN</td>\n",
       "      <td>31.75</td>\n",
       "      <td>NaN</td>\n",
       "      <td>2.00</td>\n",
       "      <td>3.00</td>\n",
       "      <td>NaN</td>\n",
       "      <td>NaN</td>\n",
       "    </tr>\n",
       "    <tr>\n",
       "      <th>50%</th>\n",
       "      <td>250.50</td>\n",
       "      <td>NaN</td>\n",
       "      <td>42.00</td>\n",
       "      <td>NaN</td>\n",
       "      <td>4.00</td>\n",
       "      <td>5.00</td>\n",
       "      <td>NaN</td>\n",
       "      <td>NaN</td>\n",
       "    </tr>\n",
       "    <tr>\n",
       "      <th>75%</th>\n",
       "      <td>375.25</td>\n",
       "      <td>NaN</td>\n",
       "      <td>50.00</td>\n",
       "      <td>NaN</td>\n",
       "      <td>6.00</td>\n",
       "      <td>8.00</td>\n",
       "      <td>NaN</td>\n",
       "      <td>NaN</td>\n",
       "    </tr>\n",
       "    <tr>\n",
       "      <th>max</th>\n",
       "      <td>500.00</td>\n",
       "      <td>NaN</td>\n",
       "      <td>59.00</td>\n",
       "      <td>NaN</td>\n",
       "      <td>7.00</td>\n",
       "      <td>10.00</td>\n",
       "      <td>NaN</td>\n",
       "      <td>NaN</td>\n",
       "    </tr>\n",
       "  </tbody>\n",
       "</table>\n",
       "</div>"
      ],
      "text/plain": [
       "        EmployeeID Gender     Age    HireDate  DepartmentID  RoleID  \\\n",
       "count       500.00    500  500.00         500        500.00  500.00   \n",
       "unique         NaN      2     NaN         472           NaN     NaN   \n",
       "top            NaN      F     NaN  2015-11-19           NaN     NaN   \n",
       "freq           NaN    256     NaN           2           NaN     NaN   \n",
       "mean        250.50    NaN   40.99         NaN          4.04    5.45   \n",
       "std         144.48    NaN   11.00         NaN          2.02    2.94   \n",
       "min           1.00    NaN   22.00         NaN          1.00    1.00   \n",
       "25%         125.75    NaN   31.75         NaN          2.00    3.00   \n",
       "50%         250.50    NaN   42.00         NaN          4.00    5.00   \n",
       "75%         375.25    NaN   50.00         NaN          6.00    8.00   \n",
       "max         500.00    NaN   59.00         NaN          7.00   10.00   \n",
       "\n",
       "       EmploymentType  Status  \n",
       "count             500     500  \n",
       "unique              2       2  \n",
       "top         Permanent  Active  \n",
       "freq              374     400  \n",
       "mean              NaN     NaN  \n",
       "std               NaN     NaN  \n",
       "min               NaN     NaN  \n",
       "25%               NaN     NaN  \n",
       "50%               NaN     NaN  \n",
       "75%               NaN     NaN  \n",
       "max               NaN     NaN  "
      ]
     },
     "execution_count": 117,
     "metadata": {},
     "output_type": "execute_result"
    }
   ],
   "source": [
    "employees.describe(include = 'all').round(2)"
   ]
  },
  {
   "cell_type": "code",
   "execution_count": 118,
   "id": "3c381137-9cd8-41a3-82d9-948895cc3057",
   "metadata": {},
   "outputs": [],
   "source": [
    "# Well looking at this made me realise that I don't need descriptive stats for this data\n",
    "# The data is more qualitative than quantitative"
   ]
  },
  {
   "cell_type": "code",
   "execution_count": 119,
   "id": "58312af7-4b17-423d-a292-ca55c709bb93",
   "metadata": {},
   "outputs": [],
   "source": [
    "employees = employees.drop_duplicates()"
   ]
  },
  {
   "cell_type": "code",
   "execution_count": 123,
   "id": "d4070f35-1ead-498e-ba67-7bc850fdf377",
   "metadata": {},
   "outputs": [
    {
     "data": {
      "text/plain": [
       "np.int64(0)"
      ]
     },
     "execution_count": 123,
     "metadata": {},
     "output_type": "execute_result"
    }
   ],
   "source": [
    "employees['EmployeeID'].duplicated().sum() # Checks for duplicated employee IDs"
   ]
  },
  {
   "cell_type": "code",
   "execution_count": 125,
   "id": "bf018dca-478f-42b5-8c95-f66524de85bb",
   "metadata": {},
   "outputs": [],
   "source": [
    "# Checks for the employees table are done. Pretty simple stuff here as it's not quantitative data. \n",
    "# Let's move on to the engagement table."
   ]
  },
  {
   "cell_type": "code",
   "execution_count": 126,
   "id": "85775524-2807-40ff-a462-25b006185592",
   "metadata": {},
   "outputs": [
    {
     "data": {
      "text/html": [
       "<div>\n",
       "<style scoped>\n",
       "    .dataframe tbody tr th:only-of-type {\n",
       "        vertical-align: middle;\n",
       "    }\n",
       "\n",
       "    .dataframe tbody tr th {\n",
       "        vertical-align: top;\n",
       "    }\n",
       "\n",
       "    .dataframe thead th {\n",
       "        text-align: right;\n",
       "    }\n",
       "</style>\n",
       "<table border=\"1\" class=\"dataframe\">\n",
       "  <thead>\n",
       "    <tr style=\"text-align: right;\">\n",
       "      <th></th>\n",
       "      <th>EmployeeID</th>\n",
       "      <th>SurveyDate</th>\n",
       "      <th>EngagementScore</th>\n",
       "      <th>WorkLifeBalance</th>\n",
       "      <th>JobSatisfaction</th>\n",
       "    </tr>\n",
       "  </thead>\n",
       "  <tbody>\n",
       "    <tr>\n",
       "      <th>0</th>\n",
       "      <td>1</td>\n",
       "      <td>2024-12-01</td>\n",
       "      <td>51</td>\n",
       "      <td>3</td>\n",
       "      <td>1</td>\n",
       "    </tr>\n",
       "    <tr>\n",
       "      <th>1</th>\n",
       "      <td>2</td>\n",
       "      <td>2024-12-01</td>\n",
       "      <td>69</td>\n",
       "      <td>2</td>\n",
       "      <td>3</td>\n",
       "    </tr>\n",
       "    <tr>\n",
       "      <th>2</th>\n",
       "      <td>3</td>\n",
       "      <td>2024-12-01</td>\n",
       "      <td>44</td>\n",
       "      <td>1</td>\n",
       "      <td>3</td>\n",
       "    </tr>\n",
       "    <tr>\n",
       "      <th>3</th>\n",
       "      <td>4</td>\n",
       "      <td>2024-12-01</td>\n",
       "      <td>73</td>\n",
       "      <td>2</td>\n",
       "      <td>3</td>\n",
       "    </tr>\n",
       "    <tr>\n",
       "      <th>4</th>\n",
       "      <td>5</td>\n",
       "      <td>2024-12-01</td>\n",
       "      <td>61</td>\n",
       "      <td>5</td>\n",
       "      <td>3</td>\n",
       "    </tr>\n",
       "  </tbody>\n",
       "</table>\n",
       "</div>"
      ],
      "text/plain": [
       "   EmployeeID  SurveyDate  EngagementScore  WorkLifeBalance  JobSatisfaction\n",
       "0           1  2024-12-01               51                3                1\n",
       "1           2  2024-12-01               69                2                3\n",
       "2           3  2024-12-01               44                1                3\n",
       "3           4  2024-12-01               73                2                3\n",
       "4           5  2024-12-01               61                5                3"
      ]
     },
     "execution_count": 126,
     "metadata": {},
     "output_type": "execute_result"
    }
   ],
   "source": [
    "engagement.head()"
   ]
  },
  {
   "cell_type": "code",
   "execution_count": 127,
   "id": "4dc6d04d-82f9-4c62-a79b-3b7830ab2c6b",
   "metadata": {},
   "outputs": [
    {
     "data": {
      "text/plain": [
       "EmployeeID          int64\n",
       "SurveyDate         object\n",
       "EngagementScore     int64\n",
       "WorkLifeBalance     int64\n",
       "JobSatisfaction     int64\n",
       "dtype: object"
      ]
     },
     "execution_count": 127,
     "metadata": {},
     "output_type": "execute_result"
    }
   ],
   "source": [
    "engagement.dtypes"
   ]
  },
  {
   "cell_type": "code",
   "execution_count": 128,
   "id": "638113cc-da51-4f25-a6fa-313b9b4fcb92",
   "metadata": {},
   "outputs": [
    {
     "data": {
      "text/plain": [
       "(500, 5)"
      ]
     },
     "execution_count": 128,
     "metadata": {},
     "output_type": "execute_result"
    }
   ],
   "source": [
    "engagement.shape"
   ]
  },
  {
   "cell_type": "code",
   "execution_count": 129,
   "id": "28246eec-5652-44eb-9331-b0d504568702",
   "metadata": {},
   "outputs": [
    {
     "data": {
      "text/html": [
       "<div>\n",
       "<style scoped>\n",
       "    .dataframe tbody tr th:only-of-type {\n",
       "        vertical-align: middle;\n",
       "    }\n",
       "\n",
       "    .dataframe tbody tr th {\n",
       "        vertical-align: top;\n",
       "    }\n",
       "\n",
       "    .dataframe thead th {\n",
       "        text-align: right;\n",
       "    }\n",
       "</style>\n",
       "<table border=\"1\" class=\"dataframe\">\n",
       "  <thead>\n",
       "    <tr style=\"text-align: right;\">\n",
       "      <th></th>\n",
       "      <th>EmployeeID</th>\n",
       "      <th>SurveyDate</th>\n",
       "      <th>EngagementScore</th>\n",
       "      <th>WorkLifeBalance</th>\n",
       "      <th>JobSatisfaction</th>\n",
       "    </tr>\n",
       "  </thead>\n",
       "  <tbody>\n",
       "    <tr>\n",
       "      <th>count</th>\n",
       "      <td>500.00</td>\n",
       "      <td>500</td>\n",
       "      <td>500.00</td>\n",
       "      <td>500.00</td>\n",
       "      <td>500.00</td>\n",
       "    </tr>\n",
       "    <tr>\n",
       "      <th>unique</th>\n",
       "      <td>NaN</td>\n",
       "      <td>1</td>\n",
       "      <td>NaN</td>\n",
       "      <td>NaN</td>\n",
       "      <td>NaN</td>\n",
       "    </tr>\n",
       "    <tr>\n",
       "      <th>top</th>\n",
       "      <td>NaN</td>\n",
       "      <td>2024-12-01</td>\n",
       "      <td>NaN</td>\n",
       "      <td>NaN</td>\n",
       "      <td>NaN</td>\n",
       "    </tr>\n",
       "    <tr>\n",
       "      <th>freq</th>\n",
       "      <td>NaN</td>\n",
       "      <td>500</td>\n",
       "      <td>NaN</td>\n",
       "      <td>NaN</td>\n",
       "      <td>NaN</td>\n",
       "    </tr>\n",
       "    <tr>\n",
       "      <th>mean</th>\n",
       "      <td>250.50</td>\n",
       "      <td>NaN</td>\n",
       "      <td>69.22</td>\n",
       "      <td>2.93</td>\n",
       "      <td>2.88</td>\n",
       "    </tr>\n",
       "    <tr>\n",
       "      <th>std</th>\n",
       "      <td>144.48</td>\n",
       "      <td>NaN</td>\n",
       "      <td>16.40</td>\n",
       "      <td>1.44</td>\n",
       "      <td>1.44</td>\n",
       "    </tr>\n",
       "    <tr>\n",
       "      <th>min</th>\n",
       "      <td>1.00</td>\n",
       "      <td>NaN</td>\n",
       "      <td>40.00</td>\n",
       "      <td>1.00</td>\n",
       "      <td>1.00</td>\n",
       "    </tr>\n",
       "    <tr>\n",
       "      <th>25%</th>\n",
       "      <td>125.75</td>\n",
       "      <td>NaN</td>\n",
       "      <td>56.00</td>\n",
       "      <td>2.00</td>\n",
       "      <td>2.00</td>\n",
       "    </tr>\n",
       "    <tr>\n",
       "      <th>50%</th>\n",
       "      <td>250.50</td>\n",
       "      <td>NaN</td>\n",
       "      <td>68.00</td>\n",
       "      <td>3.00</td>\n",
       "      <td>3.00</td>\n",
       "    </tr>\n",
       "    <tr>\n",
       "      <th>75%</th>\n",
       "      <td>375.25</td>\n",
       "      <td>NaN</td>\n",
       "      <td>83.00</td>\n",
       "      <td>4.00</td>\n",
       "      <td>4.00</td>\n",
       "    </tr>\n",
       "    <tr>\n",
       "      <th>max</th>\n",
       "      <td>500.00</td>\n",
       "      <td>NaN</td>\n",
       "      <td>99.00</td>\n",
       "      <td>5.00</td>\n",
       "      <td>5.00</td>\n",
       "    </tr>\n",
       "  </tbody>\n",
       "</table>\n",
       "</div>"
      ],
      "text/plain": [
       "        EmployeeID  SurveyDate  EngagementScore  WorkLifeBalance  \\\n",
       "count       500.00         500           500.00           500.00   \n",
       "unique         NaN           1              NaN              NaN   \n",
       "top            NaN  2024-12-01              NaN              NaN   \n",
       "freq           NaN         500              NaN              NaN   \n",
       "mean        250.50         NaN            69.22             2.93   \n",
       "std         144.48         NaN            16.40             1.44   \n",
       "min           1.00         NaN            40.00             1.00   \n",
       "25%         125.75         NaN            56.00             2.00   \n",
       "50%         250.50         NaN            68.00             3.00   \n",
       "75%         375.25         NaN            83.00             4.00   \n",
       "max         500.00         NaN            99.00             5.00   \n",
       "\n",
       "        JobSatisfaction  \n",
       "count            500.00  \n",
       "unique              NaN  \n",
       "top                 NaN  \n",
       "freq                NaN  \n",
       "mean               2.88  \n",
       "std                1.44  \n",
       "min                1.00  \n",
       "25%                2.00  \n",
       "50%                3.00  \n",
       "75%                4.00  \n",
       "max                5.00  "
      ]
     },
     "execution_count": 129,
     "metadata": {},
     "output_type": "execute_result"
    }
   ],
   "source": [
    "engagement.describe(include = 'all').round(2)"
   ]
  },
  {
   "cell_type": "code",
   "execution_count": null,
   "id": "4e4e8977-4f10-455c-82b7-ee85e8d21619",
   "metadata": {},
   "outputs": [],
   "source": []
  }
 ],
 "metadata": {
  "kernelspec": {
   "display_name": "Python [conda env:base] *",
   "language": "python",
   "name": "conda-base-py"
  },
  "language_info": {
   "codemirror_mode": {
    "name": "ipython",
    "version": 3
   },
   "file_extension": ".py",
   "mimetype": "text/x-python",
   "name": "python",
   "nbconvert_exporter": "python",
   "pygments_lexer": "ipython3",
   "version": "3.13.5"
  }
 },
 "nbformat": 4,
 "nbformat_minor": 5
}
